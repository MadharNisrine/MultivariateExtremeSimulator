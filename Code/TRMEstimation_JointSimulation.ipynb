{
 "cells": [
  {
   "cell_type": "code",
   "execution_count": 1,
   "id": "fd0ce113",
   "metadata": {
    "ExecuteTime": {
     "end_time": "2024-06-08T21:16:20.598632Z",
     "start_time": "2024-06-08T21:16:18.082057Z"
    }
   },
   "outputs": [
    {
     "name": "stderr",
     "output_type": "stream",
     "text": [
      "C:\\Users\\nmadhar\\AppData\\Roaming\\Python\\Python37\\site-packages\\pandas\\compat\\_optional.py:138: UserWarning: Pandas requires version '2.7.0' or newer of 'numexpr' (version '2.6.9' currently installed).\n",
      "  warnings.warn(msg, UserWarning)\n"
     ]
    }
   ],
   "source": [
    "import numpy as np\n",
    "from copulas.univariate import GaussianKDE \n",
    "from copulas.bivariate import Clayton\n",
    "from scipy.stats import t\n",
    "import seaborn as sns\n",
    "import matplotlib.pyplot as plt\n",
    "import pandas as pd\n",
    "from collections import OrderedDict\n",
    "import pandas as pd\n",
    "import random\n",
    "from scipy.stats import genpareto\n",
    "from scipy.stats import expon,poisson,pareto\n",
    "import pathlib\n",
    "from scipy import integrate \n",
    "from Utils_StochasticSimulation import *"
   ]
  },
  {
   "cell_type": "code",
   "execution_count": 2,
   "id": "5f5fea3c",
   "metadata": {
    "ExecuteTime": {
     "end_time": "2024-06-08T21:16:29.099230Z",
     "start_time": "2024-06-08T21:16:29.093418Z"
    }
   },
   "outputs": [],
   "source": [
    "sns.set_theme(style='white')\n",
    "alphaVaR = 0.9975\n",
    "alphaU = 0.85"
   ]
  },
  {
   "cell_type": "markdown",
   "id": "016d1c18",
   "metadata": {},
   "source": [
    "---\n",
    "*This nooteook gives an illustration of TRMs empirical estimation on a single sample generated with our joint simulation algorithms. We recommend the esitmation on multiple sample (running the joint simulate multiple times) for accurate TRMs estimates.*\n",
    "\n",
    "---"
   ]
  },
  {
   "cell_type": "markdown",
   "id": "1b976f97",
   "metadata": {},
   "source": [
    "# I. Weak Asymptotic Dependence \n",
    "## 1. Data preparation "
   ]
  },
  {
   "cell_type": "code",
   "execution_count": 3,
   "id": "03e97150",
   "metadata": {
    "ExecuteTime": {
     "end_time": "2024-06-08T21:16:30.922604Z",
     "start_time": "2024-06-08T21:16:30.184835Z"
    }
   },
   "outputs": [
    {
     "name": "stdout",
     "output_type": "stream",
     "text": [
      "Gamma of X0 = 0.01\n",
      "Gamma of Y0 = -0.08\n",
      "Gamma of Z0 = -0.01\n"
     ]
    },
    {
     "name": "stderr",
     "output_type": "stream",
     "text": [
      "C:\\Users\\nmadhar\\AppData\\Roaming\\Python\\Python37\\site-packages\\pandas\\core\\indexing.py:1951: SettingWithCopyWarning: \n",
      "A value is trying to be set on a copy of a slice from a DataFrame.\n",
      "Try using .loc[row_indexer,col_indexer] = value instead\n",
      "\n",
      "See the caveats in the documentation: https://pandas.pydata.org/pandas-docs/stable/user_guide/indexing.html#returning-a-view-versus-a-copy\n",
      "  self.obj[selected_item_labels] = value\n"
     ]
    }
   ],
   "source": [
    "path = r'C:\\Users\\nmadhar\\Desktop\\GANEV\\SimulationOfExtremeScenarios\\Data\\DataK3ExtremalCoefficient\\Gumbel33'\n",
    "name =  'Gumbel33_1'#'Gumbel60_2' utilisé pour la calibration du M \n",
    "chiCopula = 1/3\n",
    "\n",
    "    \n",
    "filename = name\n",
    "Data = pd.read_excel(pathlib.PurePath(path, filename + '.xlsx')) \n",
    "nu1,nu2,nu3= 2,3,2.5\n",
    "X = (t.ppf(Data.values[:,0],df=nu1)).reshape(-1,1)\n",
    "Y = (t.ppf(Data.values[:,1],df=nu2)).reshape(-1,1)\n",
    "Z = ((t.ppf(Data.values[:,2],df=nu3))).reshape(-1,1)\n",
    "df = pd.DataFrame(np.concatenate([X,Y,Z],axis=1))\n",
    "n,K = df.shape\n",
    "\n",
    "VaRTheo = t.ppf(alphaVaR,df=nu1)\n",
    "ESEmp = np.mean(X[X>VaRTheo]) \n",
    "\n",
    "\n",
    "X0 = (-np.log(1-Data.iloc[:,0].values)).reshape(-1,1)\n",
    "Y0 = (-np.log(1-Data.iloc[:,1].values)).reshape(-1,1)\n",
    "Z0 = (-np.log(1-Data.iloc[:,2].values)).reshape(-1,1)\n",
    "dfStand = pd.DataFrame(np.concatenate([X0,Y0,Z0],axis=1))\n",
    "\n",
    "uX0,uY0,uZ0 = np.quantile(X0,alphaU),np.quantile(Y0,alphaU),np.quantile(Z0,alphaU)\n",
    "\n",
    "print(f'Gamma of X0 = %.2f'%(genpareto.fit(X0[X0>uX0]-uX0)[0]))\n",
    "print(f'Gamma of Y0 = %.2f'%(genpareto.fit(Y0[Y0>uY0]-uY0)[0]))\n",
    "print(f'Gamma of Z0 = %.2f'%(genpareto.fit(Z0[Z0>uZ0]-uZ0)[0]))\n",
    "\n",
    "\n",
    "\n",
    "TX0 = (np.arange(n)[dfStand.iloc[:,0]>uX0]).reshape(-1,)\n",
    "TY0 = (np.arange(n)[dfStand.iloc[:,1]>uY0]).reshape(-1,)\n",
    "TZ0 = (np.arange(n)[dfStand.iloc[:,2]>uZ0]).reshape(-1,)\n",
    "\n",
    "T0 = np.concatenate([TX0,TY0,TZ0])\n",
    "\n",
    "T0 = np.array(list(OrderedDict.fromkeys(list(T0))),dtype=int)\n",
    "ExcessStand = dfStand.iloc[T0,:]\n",
    "ExcessStand.iloc[:,0] = ExcessStand.iloc[:,0] - uX0\n",
    "ExcessStand.iloc[:,1] = ExcessStand.iloc[:,1] - uY0\n",
    "ExcessStand.iloc[:,2] = ExcessStand.iloc[:,2] - uZ0\n",
    "\n",
    "ExcessStand = ExcessStand.values"
   ]
  },
  {
   "cell_type": "code",
   "execution_count": 4,
   "id": "31be46f8",
   "metadata": {
    "ExecuteTime": {
     "end_time": "2024-06-08T21:16:32.085100Z",
     "start_time": "2024-06-08T21:16:30.926219Z"
    }
   },
   "outputs": [],
   "source": [
    "VaRTheoX, ESTheoX, DCTETheoX,MESTheoX = getRiskMeasuresStudentGumbelK3(alphaVaR,nuVect=[nu1,nu2,nu3],theta=np.log(2)/np.log(2-chiCopula))\n",
    "VaRTheoY, ESTheoY, DCTETheoY,MESTheoY = getRiskMeasuresStudentGumbelK3(alphaVaR,nuVect=[nu2,nu1,nu3],theta=np.log(2)/np.log(2-chiCopula))\n",
    "VaRTheoZ, ESTheoZ, DCTETheoZ,MESTheoZ = getRiskMeasuresStudentGumbelK3(alphaVaR,nuVect=[nu3,nu1,nu2],theta=np.log(2)/np.log(2-chiCopula))\n",
    "ParamsOriginScale = [nu1,uX0,nu2,uY0,nu3,uZ0 ]\n",
    "VaR = [VaRTheoX,VaRTheoY,VaRTheoZ]\n",
    "VaREmpX, ESEmpX, DCTEEmpX,Nb_ExcDepX,MESEmpX,Nb_ExcMESX = getRiskMeasuresEmpiricalMES(df,0,alphaVaR,ExcdTheo=True,VaRRF= [VaRTheoX,VaRTheoY,VaRTheoZ])"
   ]
  },
  {
   "cell_type": "code",
   "execution_count": 5,
   "id": "fb7240ea",
   "metadata": {
    "ExecuteTime": {
     "end_time": "2024-06-08T21:16:32.101206Z",
     "start_time": "2024-06-08T21:16:32.086974Z"
    }
   },
   "outputs": [],
   "source": [
    "TX = (np.arange(n)[df.iloc[:,0]>VaRTheoX]).reshape(-1,)\n",
    "TY = (np.arange(n)[df.iloc[:,1]>VaRTheoY]).reshape(-1,)\n",
    "TZ = (np.arange(n)[df.iloc[:,2]>VaRTheoZ]).reshape(-1,)\n",
    "\n",
    "T = np.concatenate([TX,TY,TZ])\n",
    "\n",
    "T = np.array(list(OrderedDict.fromkeys(list(T))),dtype=int)\n",
    "Excess = df.iloc[T,:]"
   ]
  },
  {
   "cell_type": "markdown",
   "id": "6e0ee44d",
   "metadata": {},
   "source": [
    "## 2. One-shoot estimation of TRMs"
   ]
  },
  {
   "cell_type": "code",
   "execution_count": 6,
   "id": "3e0e97b3",
   "metadata": {
    "ExecuteTime": {
     "end_time": "2024-06-08T21:16:38.550216Z",
     "start_time": "2024-06-08T21:16:32.104443Z"
    }
   },
   "outputs": [
    {
     "name": "stdout",
     "output_type": "stream",
     "text": [
      "----------ES----------\n",
      "Relative error on empirical estimation -0.18 \n",
      "Empirical estimation 23.15, Theoretical value 28.25 \n",
      "Nb. of Observations above VaR Level 6 on original sample\n",
      "\n",
      "Relative error of empirical estimation on simulated sample 0.004 \n",
      "Empirical estimation on simulated sample 28.37, Theoretical value 28.25 \n",
      "Nb. of Observations above VaR Level 84 on simulated sample\n",
      "\n",
      "Relative error of empirical estimation on extended sample -0.008 \n",
      "Empirical estimation on extended sample 28.03, Theoretical value 28.25 \n"
     ]
    }
   ],
   "source": [
    "myseed = 1841818\n",
    "ESExtX,ESSimuX,Nb_VaRX = StabilityNewSamples(ExcessStand,X,[nu1,uX0],VaRTheoX,M=10000,K=1,seed=myseed)\n",
    "SummaryErrorEmpSimuExt(ESEmpX,ESSimuX,ESExtX,ESTheoX,(X>VaRTheoX).sum(),Nb_VaRX,'ES')"
   ]
  },
  {
   "cell_type": "code",
   "execution_count": 7,
   "id": "dc0d650f",
   "metadata": {
    "ExecuteTime": {
     "end_time": "2024-06-08T21:16:43.699468Z",
     "start_time": "2024-06-08T21:16:38.552633Z"
    }
   },
   "outputs": [
    {
     "name": "stdout",
     "output_type": "stream",
     "text": [
      "----------DCTE----------\n",
      "Relative error on empirical estimation 0.11 \n",
      "Empirical estimation 48.82, Theoretical value 44.16 \n",
      "Nb. of Observations above VaR Level 1 on original sample\n",
      "\n",
      "Relative error of empirical estimation on simulated sample 0.022 \n",
      "Empirical estimation on simulated sample 45.11, Theoretical value 44.16 \n",
      "Nb. of Observations above VaR Level 29 on simulated sample\n",
      "\n",
      "Relative error of empirical estimation on extended sample 0.024 \n",
      "Empirical estimation on extended sample 45.24, Theoretical value 44.16 \n"
     ]
    }
   ],
   "source": [
    "DCTE_SimuX,DCTE_ExtX,DCTE_SimuY,DCTE_ExtY,DCTE_SimuZ,DCTE_ExtZ,Nb_DCTE = StabilityonlyDCTE_NewSamples(ExcessStand,Excess,ParamsOriginScale,VaR,M=10000,K=1,seed=myseed)\n",
    "SummaryErrorEmpSimuExt(DCTEEmpX,DCTE_SimuX,DCTE_ExtX,DCTETheoX,Nb_ExcDepX,Nb_DCTE,'DCTE')"
   ]
  },
  {
   "cell_type": "code",
   "execution_count": 8,
   "id": "34c2c52c",
   "metadata": {
    "ExecuteTime": {
     "end_time": "2024-06-08T21:16:50.603096Z",
     "start_time": "2024-06-08T21:16:43.704451Z"
    }
   },
   "outputs": [
    {
     "name": "stdout",
     "output_type": "stream",
     "text": [
      "----------MES----------\n",
      "Relative error on empirical estimation 0.39 \n",
      "Empirical estimation 48.82, Theoretical value 35.24 \n",
      "Nb. of Observations above VaR Level 1 on original sample\n",
      "\n",
      "Relative error of empirical estimation on simulated sample 0.047 \n",
      "Empirical estimation on simulated sample 36.90, Theoretical value 35.24 \n",
      "Nb. of Observations above VaR Level 38 on simulated sample\n",
      "\n",
      "Relative error of empirical estimation on extended sample 0.056 \n",
      "Empirical estimation on extended sample 37.21, Theoretical value 35.24 \n"
     ]
    }
   ],
   "source": [
    "MES_SimuX,MES_ExtX,MES_SimuY,MES_ExtY,MES_SimuZ,MES_ExtZ,Nb_MES = StabilityonlyMES_NewSamples(ExcessStand,Excess,ParamsOriginScale,VaR,M=10000,K=1,seed=myseed)\n",
    "SummaryErrorEmpSimuExt(MESEmpX,MES_SimuX,MES_ExtX,MESTheoX,Nb_ExcDepX,Nb_MES,'MES')"
   ]
  },
  {
   "cell_type": "markdown",
   "id": "592db7d9",
   "metadata": {},
   "source": [
    "# II. Strong Asymptotic Dependence \n",
    "\n",
    "## 1. Data Preparation"
   ]
  },
  {
   "cell_type": "code",
   "execution_count": 9,
   "id": "d50291c3",
   "metadata": {
    "ExecuteTime": {
     "end_time": "2024-06-08T21:16:51.086370Z",
     "start_time": "2024-06-08T21:16:50.607101Z"
    }
   },
   "outputs": [
    {
     "name": "stdout",
     "output_type": "stream",
     "text": [
      "Gamma of X0 = -0.01\n",
      "Gamma of Y0 = -0.05\n",
      "Gamma of Z0 = -0.03\n"
     ]
    }
   ],
   "source": [
    "path = r'C:\\Users\\nmadhar\\Desktop\\GANEV\\SimulationOfExtremeScenarios\\Data\\DataK3ExtremalCoefficient\\Gumbel90'\n",
    "name =  'Gumbel90_1'#'Gumbel60_2' utilisé pour la calibration du M \n",
    "chiCopula = 0.9\n",
    "\n",
    "    \n",
    "filename = name\n",
    "Data = pd.read_excel(pathlib.PurePath(path, filename + '.xlsx')) \n",
    "nu1,nu2,nu3= 2,3,2.5\n",
    "X = (t.ppf(Data.values[:,0],df=nu1)).reshape(-1,1)\n",
    "Y = (t.ppf(Data.values[:,1],df=nu2)).reshape(-1,1)\n",
    "Z = ((t.ppf(Data.values[:,2],df=nu3))).reshape(-1,1)\n",
    "df = pd.DataFrame(np.concatenate([X,Y,Z],axis=1))\n",
    "n,K = df.shape\n",
    "\n",
    "VaRTheo = t.ppf(alphaVaR,df=nu1)\n",
    "ESEmp = np.mean(X[X>VaRTheo]) \n",
    "\n",
    "\n",
    "X0 = (-np.log(1-Data.iloc[:,0].values)).reshape(-1,1)\n",
    "Y0 = (-np.log(1-Data.iloc[:,1].values)).reshape(-1,1)\n",
    "Z0 = (-np.log(1-Data.iloc[:,2].values)).reshape(-1,1)\n",
    "dfStand = pd.DataFrame(np.concatenate([X0,Y0,Z0],axis=1))\n",
    "\n",
    "uX0,uY0,uZ0 = np.quantile(X0,alphaU),np.quantile(Y0,alphaU),np.quantile(Z0,alphaU)\n",
    "\n",
    "print(f'Gamma of X0 = %.2f'%(genpareto.fit(X0[X0>uX0]-uX0)[0]))\n",
    "print(f'Gamma of Y0 = %.2f'%(genpareto.fit(Y0[Y0>uY0]-uY0)[0]))\n",
    "print(f'Gamma of Z0 = %.2f'%(genpareto.fit(Z0[Z0>uZ0]-uZ0)[0]))\n",
    "\n",
    "\n",
    "\n",
    "TX0 = (np.arange(n)[dfStand.iloc[:,0]>uX0]).reshape(-1,)\n",
    "TY0 = (np.arange(n)[dfStand.iloc[:,1]>uY0]).reshape(-1,)\n",
    "TZ0 = (np.arange(n)[dfStand.iloc[:,2]>uZ0]).reshape(-1,)\n",
    "\n",
    "T0 = np.concatenate([TX0,TY0,TZ0])\n",
    "\n",
    "T0 = np.array(list(OrderedDict.fromkeys(list(T0))),dtype=int)\n",
    "ExcessStand = dfStand.iloc[T0,:]\n",
    "ExcessStand.iloc[:,0] = ExcessStand.iloc[:,0] - uX0\n",
    "ExcessStand.iloc[:,1] = ExcessStand.iloc[:,1] - uY0\n",
    "ExcessStand.iloc[:,2] = ExcessStand.iloc[:,2] - uZ0\n",
    "\n",
    "ExcessStand = ExcessStand.values"
   ]
  },
  {
   "cell_type": "code",
   "execution_count": 10,
   "id": "56a52017",
   "metadata": {
    "ExecuteTime": {
     "end_time": "2024-06-08T21:16:53.097747Z",
     "start_time": "2024-06-08T21:16:51.088238Z"
    }
   },
   "outputs": [],
   "source": [
    "VaRTheoX, ESTheoX, DCTETheoX,MESTheoX = getRiskMeasuresStudentGumbelK3(alphaVaR,nuVect=[nu1,nu2,nu3],theta=np.log(2)/np.log(2-chiCopula))\n",
    "VaRTheoY, ESTheoY, DCTETheoY,MESTheoY = getRiskMeasuresStudentGumbelK3(alphaVaR,nuVect=[nu2,nu1,nu3],theta=np.log(2)/np.log(2-chiCopula))\n",
    "VaRTheoZ, ESTheoZ, DCTETheoZ,MESTheoZ = getRiskMeasuresStudentGumbelK3(alphaVaR,nuVect=[nu3,nu1,nu2],theta=np.log(2)/np.log(2-chiCopula))\n",
    "ParamsOriginScale = [nu1,uX0,nu2,uY0,nu3,uZ0 ]\n",
    "VaR = [VaRTheoX,VaRTheoY,VaRTheoZ]\n",
    "VaREmpX, ESEmpX, DCTEEmpX,Nb_ExcDepX,MESEmpX,Nb_ExcMESX = getRiskMeasuresEmpiricalMES(df,0,alphaVaR,ExcdTheo=True,VaRRF= [VaRTheoX,VaRTheoY,VaRTheoZ])"
   ]
  },
  {
   "cell_type": "code",
   "execution_count": 11,
   "id": "b1661991",
   "metadata": {
    "ExecuteTime": {
     "end_time": "2024-06-08T21:16:53.128982Z",
     "start_time": "2024-06-08T21:16:53.103274Z"
    }
   },
   "outputs": [],
   "source": [
    "TX = (np.arange(n)[df.iloc[:,0]>VaRTheoX]).reshape(-1,)\n",
    "TY = (np.arange(n)[df.iloc[:,1]>VaRTheoY]).reshape(-1,)\n",
    "TZ = (np.arange(n)[df.iloc[:,2]>VaRTheoZ]).reshape(-1,)\n",
    "\n",
    "T = np.concatenate([TX,TY,TZ])\n",
    "\n",
    "T = np.array(list(OrderedDict.fromkeys(list(T))),dtype=int)\n",
    "Excess = df.iloc[T,:]"
   ]
  },
  {
   "cell_type": "code",
   "execution_count": 12,
   "id": "4a60df78",
   "metadata": {
    "ExecuteTime": {
     "end_time": "2024-06-08T21:16:53.159725Z",
     "start_time": "2024-06-08T21:16:53.133337Z"
    }
   },
   "outputs": [],
   "source": [
    "TX = (np.arange(n)[df.iloc[:,0]>VaRTheoX]).reshape(-1,)\n",
    "TY = (np.arange(n)[df.iloc[:,1]>VaRTheoY]).reshape(-1,)\n",
    "TZ = (np.arange(n)[df.iloc[:,2]>VaRTheoZ]).reshape(-1,)\n",
    "\n",
    "T = np.concatenate([TX,TY,TZ])\n",
    "\n",
    "T = np.array(list(OrderedDict.fromkeys(list(T))),dtype=int)\n",
    "Excess = df.iloc[T,:]"
   ]
  },
  {
   "cell_type": "markdown",
   "id": "0365b963",
   "metadata": {},
   "source": [
    "## 2. One-shoot estimation of TRMs"
   ]
  },
  {
   "cell_type": "code",
   "execution_count": 17,
   "id": "645f154e",
   "metadata": {
    "ExecuteTime": {
     "end_time": "2024-06-08T21:24:40.298626Z",
     "start_time": "2024-06-08T21:24:34.896173Z"
    }
   },
   "outputs": [
    {
     "name": "stdout",
     "output_type": "stream",
     "text": [
      "----------ES----------\n",
      "Relative error on empirical estimation 0.34 \n",
      "Empirical estimation 37.90, Theoretical value 28.25 \n",
      "Nb. of Observations above VaR Level 2 on original sample\n",
      "\n",
      "Relative error of empirical estimation on simulated sample -0.072 \n",
      "Empirical estimation on simulated sample 26.22, Theoretical value 28.25 \n",
      "Nb. of Observations above VaR Level 132 on simulated sample\n",
      "\n",
      "Relative error of empirical estimation on extended sample -0.066 \n",
      "Empirical estimation on extended sample 26.39, Theoretical value 28.25 \n"
     ]
    }
   ],
   "source": [
    "myseed = 1841812\n",
    "ESExtX,ESSimuX,Nb_VaRX = StabilityNewSamples(ExcessStand,X,[nu1,uX0],VaRTheoX,M=10000,K=1,seed=myseed)\n",
    "SummaryErrorEmpSimuExt(ESEmpX,ESSimuX,ESExtX,ESTheoX,(X>VaRTheoX).sum(),Nb_VaRX,'ES')"
   ]
  },
  {
   "cell_type": "code",
   "execution_count": 18,
   "id": "6388d8af",
   "metadata": {
    "ExecuteTime": {
     "end_time": "2024-06-08T21:24:47.080706Z",
     "start_time": "2024-06-08T21:24:42.561623Z"
    }
   },
   "outputs": [
    {
     "name": "stdout",
     "output_type": "stream",
     "text": [
      "----------DCTE----------\n",
      "Relative error on empirical estimation 0.25 \n",
      "Empirical estimation 37.90, Theoretical value 30.29 \n",
      "Nb. of Observations above VaR Level 2 on original sample\n",
      "\n",
      "Relative error of empirical estimation on simulated sample -0.091 \n",
      "Empirical estimation on simulated sample 27.55, Theoretical value 30.29 \n",
      "Nb. of Observations above VaR Level 118 on simulated sample\n",
      "\n",
      "Relative error of empirical estimation on extended sample -0.085 \n",
      "Empirical estimation on extended sample 27.72, Theoretical value 30.29 \n"
     ]
    }
   ],
   "source": [
    "DCTE_SimuX,DCTE_ExtX,DCTE_SimuY,DCTE_ExtY,DCTE_SimuZ,DCTE_ExtZ,Nb_DCTE = StabilityonlyDCTE_NewSamples(ExcessStand,Excess,ParamsOriginScale,VaR,M=10000,K=1,seed=myseed)\n",
    "SummaryErrorEmpSimuExt(DCTEEmpX,DCTE_SimuX,DCTE_ExtX,DCTETheoX,Nb_ExcDepX,Nb_DCTE,'DCTE')"
   ]
  },
  {
   "cell_type": "code",
   "execution_count": 19,
   "id": "7a232a6f",
   "metadata": {
    "ExecuteTime": {
     "end_time": "2024-06-08T21:24:50.988491Z",
     "start_time": "2024-06-08T21:24:47.083921Z"
    }
   },
   "outputs": [
    {
     "name": "stdout",
     "output_type": "stream",
     "text": [
      "----------MES----------\n",
      "Relative error on empirical estimation 0.28 \n",
      "Empirical estimation 37.90, Theoretical value 29.60 \n",
      "Nb. of Observations above VaR Level 2 on original sample\n",
      "\n",
      "Relative error of empirical estimation on simulated sample -0.085 \n",
      "Empirical estimation on simulated sample 27.09, Theoretical value 29.60 \n",
      "Nb. of Observations above VaR Level 122 on simulated sample\n",
      "\n",
      "Relative error of empirical estimation on extended sample -0.079 \n",
      "Empirical estimation on extended sample 27.26, Theoretical value 29.60 \n"
     ]
    }
   ],
   "source": [
    "MES_SimuX,MES_ExtX,MES_SimuY,MES_ExtY,MES_SimuZ,MES_ExtZ,Nb_MES = StabilityonlyMES_NewSamples(ExcessStand,Excess,ParamsOriginScale,VaR,M=10000,K=1,seed=myseed)\n",
    "SummaryErrorEmpSimuExt(MESEmpX,MES_SimuX,MES_ExtX,MESTheoX,Nb_ExcDepX,Nb_MES,'MES')"
   ]
  },
  {
   "cell_type": "code",
   "execution_count": null,
   "id": "9d7411db",
   "metadata": {},
   "outputs": [],
   "source": []
  },
  {
   "cell_type": "code",
   "execution_count": null,
   "id": "5b6c9053",
   "metadata": {},
   "outputs": [],
   "source": []
  },
  {
   "cell_type": "code",
   "execution_count": null,
   "id": "a3d8e5e0",
   "metadata": {},
   "outputs": [],
   "source": []
  }
 ],
 "metadata": {
  "kernelspec": {
   "display_name": "Python 3 (ipykernel)",
   "language": "python",
   "name": "python3"
  },
  "language_info": {
   "codemirror_mode": {
    "name": "ipython",
    "version": 3
   },
   "file_extension": ".py",
   "mimetype": "text/x-python",
   "name": "python",
   "nbconvert_exporter": "python",
   "pygments_lexer": "ipython3",
   "version": "3.7.3"
  }
 },
 "nbformat": 4,
 "nbformat_minor": 5
}
